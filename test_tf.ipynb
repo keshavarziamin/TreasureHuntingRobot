{
  "nbformat": 4,
  "nbformat_minor": 0,
  "metadata": {
    "colab": {
      "name": "test_tf.ipynb",
      "version": "0.3.2",
      "provenance": [],
      "include_colab_link": true
    },
    "kernelspec": {
      "name": "python3",
      "display_name": "Python 3"
    }
  },
  "cells": [
    {
      "cell_type": "markdown",
      "metadata": {
        "id": "view-in-github",
        "colab_type": "text"
      },
      "source": [
        "<a href=\"https://colab.research.google.com/github/keshavarziamin/TreasureHuntingRobot/blob/master/test_tf.ipynb\" target=\"_parent\"><img src=\"https://colab.research.google.com/assets/colab-badge.svg\" alt=\"Open In Colab\"/></a>"
      ]
    },
    {
      "cell_type": "markdown",
      "metadata": {
        "id": "pZ3ChjOHGQ3o",
        "colab_type": "text"
      },
      "source": [
        "reference [link](https://www.guru99.com/what-is-tensorflow.html)"
      ]
    },
    {
      "cell_type": "code",
      "metadata": {
        "id": "Z87a0hgt17-j",
        "colab_type": "code",
        "colab": {
          "base_uri": "https://localhost:8080/",
          "height": 107
        },
        "outputId": "765179fa-8f80-4dad-d2c3-a165578a6695"
      },
      "source": [
        "import numpy\n",
        "import cv2\n",
        "import tensorflow as tf\n",
        "print(\"HI amin\")\n",
        "print(\"version of tensorflow is \",tf.__version__)\n",
        "print(\"version of opencv is \",cv2.__version__)\n",
        "print(\"version of numpy is \",numpy.__version__)\n",
        "\n",
        "\n",
        "X_1=tf.placeholder(tf.float32, name=\"X_1\")\n",
        "X_2=tf.placeholder(tf.float32,name=\"X_2\")\n",
        "\n",
        "multiply=tf.multiply(X_1,X_2,name=\"multiply\")\n",
        "\n",
        "with tf.Session() as session:\n",
        "  result=session.run(multiply,feed_dict={X_1:[1,2,4],X_2:[4,5,6]})\n",
        "  print(\"result of multiplication is \",result)"
      ],
      "execution_count": 17,
      "outputs": [
        {
          "output_type": "stream",
          "text": [
            "HI amin\n",
            "version of tensorflow is  1.14.0\n",
            "version of opencv is  3.4.3\n",
            "version of numpy is  1.16.5\n",
            "result of multiplication is  [ 4. 10. 24.]\n"
          ],
          "name": "stdout"
        }
      ]
    }
  ]
}